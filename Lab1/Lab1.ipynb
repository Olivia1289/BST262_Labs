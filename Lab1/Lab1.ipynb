{
 "cells": [
  {
   "cell_type": "markdown",
   "metadata": {},
   "source": [
    "# BST 262 Lab 1 - Git/Github and Command Lines\n",
    "\n",
    "### Sara (Yueting) Luo\n",
    "\n",
    "### November 8th, 2018"
   ]
  },
  {
   "cell_type": "markdown",
   "metadata": {},
   "source": [
    "# Table of Content\n",
    "* [Command Line Basics](#Command-Line-Basics)\n",
    "* [Vim Basics](#Vim-Basics)\n",
    "* [Create Github Repository](#Create-Github-Repository)\n",
    "* [Connecting to the Repo](#Connecting-to-the-Repo)\n",
    "* [Why should you use version control?](#Why-should-you-use-version-control?)\n",
    "* [Common tasks in the version control of files](#Common-tasks-in-the-version-control-of-files)\n",
    "    * [Forking a repository](#Forking-a-repository)\n",
    "    * [Cloning a repository](#Cloning-a-repository)\n",
    "    * [Poking around](#Poking-around)\n",
    "    * [Making changes](#Making-changes)\n",
    "    * [Undo Changes](#Undo-Changes)\n",
    "\n",
    "* [Branching](#Branching)\n",
    "    * [Checkout](#Checkout)\n",
    "    * [Merge branch to master branch](#Merge-branch-to-master-branch)\n",
    "    \n",
    "* [Merges Conflicts](#Merges-Conflicts)\n",
    "    * [Resolve Merges Conflicts](#Resolve-Merges-Conflicts)\n",
    "    * [Fetch vs Pull](#Fetch-vs-Pull)\n",
    "    * [Merge vs Rebase](#Merge-vs-Rebase)\n",
    "* [Git habits](#Git-habits)\n",
    "* [Git Action in Summary](#Git-Action-in-Summary)\n",
    "* [Acknowledgement](#Acknowledgement)"
   ]
  },
  {
   "cell_type": "markdown",
   "metadata": {},
   "source": [
    "----\n",
    "## Command Line Basics"
   ]
  },
  {
   "cell_type": "markdown",
   "metadata": {},
   "source": [
    "Here are the essential ones:\n",
    "\n",
    "* **ls**: list the contents of the current directory\n",
    "* **cd**: change to a new directory\n",
    "* **mv**: rename a directory or file OR move a directory or file to a new location\n",
    "* **cp**: copy a directory or file\n",
    "* **pwd**: print the working directory\n",
    "* **mkdir**: create a new directory\n",
    "* **rm**: remove a file (you can remove a directory with rm -r)"
   ]
  },
  {
   "cell_type": "markdown",
   "metadata": {},
   "source": [
    "Let's go over some basic command:\n",
    "\n",
    "(`%%bash` enable Jupyter notebook to call the terminal)"
   ]
  },
  {
   "cell_type": "code",
   "execution_count": 3,
   "metadata": {},
   "outputs": [
    {
     "name": "stdout",
     "output_type": "stream",
     "text": [
      "/Users\n"
     ]
    }
   ],
   "source": [
    "%%bash\n",
    "cd /Users  #Change directory\n",
    "pwd #Print the working directory"
   ]
  },
  {
   "cell_type": "markdown",
   "metadata": {},
   "source": [
    "#### Make a temporary folder"
   ]
  },
  {
   "cell_type": "code",
   "execution_count": 19,
   "metadata": {
    "collapsed": true
   },
   "outputs": [],
   "source": [
    "%%bash\n",
    "cd /Users/ting\n",
    "mkdir tmp"
   ]
  },
  {
   "cell_type": "markdown",
   "metadata": {},
   "source": [
    "#### Now that you're inside your new directory, let's create a file in there.\n",
    "  * Type `echo 'Hello world!' > newfile.txt`\n",
    "  * Type `ls`.  You should see the next text file!\n",
    "  * To see the contents of the file, type `cat newfile.txt`."
   ]
  },
  {
   "cell_type": "code",
   "execution_count": 20,
   "metadata": {},
   "outputs": [
    {
     "name": "stdout",
     "output_type": "stream",
     "text": [
      "newfile.txt\n"
     ]
    }
   ],
   "source": [
    "%%bash \n",
    "cd /Users/ting/tmp\n",
    "echo 'Hello world!' > newfile.txt\n",
    "ls"
   ]
  },
  {
   "cell_type": "code",
   "execution_count": 21,
   "metadata": {},
   "outputs": [
    {
     "name": "stdout",
     "output_type": "stream",
     "text": [
      "Hello world!\n"
     ]
    }
   ],
   "source": [
    "%%bash \n",
    "cd /Users/ting/tmp\n",
    "cat newfile.txt"
   ]
  },
  {
   "cell_type": "markdown",
   "metadata": {},
   "source": [
    "#### Finally remove the tmp folder and everything in it\n",
    "\n",
    "(You could use the `rm - r` command. If you are not sure what you are doing, then I highly recommand you go to the folder and delete the folder manually.)"
   ]
  },
  {
   "cell_type": "markdown",
   "metadata": {},
   "source": [
    "----\n",
    "## Vim Basics"
   ]
  },
  {
   "cell_type": "markdown",
   "metadata": {},
   "source": [
    "**Vim is a text editor, it has two mode** \n",
    "1. Insert mode (Where you can just type like normal text editor. Press i for insert mode)\n",
    "2. Command mode (Where you give commands to the editor to get things done . Press ESC for command mode)"
   ]
  },
  {
   "cell_type": "markdown",
   "metadata": {},
   "source": [
    "**Most of them below are in command mode**\n",
    "\n",
    "* :wq - to save and exit\n",
    "* :q! - to trash all changes\n",
    "* x - to delete the unwanted character\n",
    "* u - to undo the last the command and U to undo the whole line\n",
    "* CTRL-R to redo\n",
    "* A - to append text at the end\n",
    "* 0 (zero) to move to the start of the line.\n",
    "* dd to delete the line"
   ]
  },
  {
   "cell_type": "markdown",
   "metadata": {
    "collapsed": true
   },
   "source": [
    "### Online Tutorial\n",
    "\n",
    "If you are interested, go through these on your own after class\n",
    "\n",
    "**Command Line:**\n",
    "\n",
    "[http://swcarpentry.github.io/shell-novice/](http://swcarpentry.github.io/shell-novice/)\n",
    "\n",
    "**Vim** \n",
    "\n",
    "https://github.com/yuanqing/vim-basics/blob/master/README.md\n",
    "\n",
    "http://www.fprintf.net/vimCheatSheet.html\n"
   ]
  },
  {
   "cell_type": "markdown",
   "metadata": {},
   "source": [
    "----\n",
    "## Create Github Repository"
   ]
  },
  {
   "cell_type": "markdown",
   "metadata": {},
   "source": [
    "Be sure to use your .edu email account.  Students get unlimited free private repositories.  We will be using private repositories a lot in this class.\n",
    "\n",
    "From your GitHub homepage, find the **New Repository** button:\n",
    "* Click the **New Repository** button\n",
    "* Name the repository **bst262_GitHubUserName**\n",
    "* Select **Public** for the repository type\n",
    "* initialize with a README, \n",
    "* Select **Create Repository**\n",
    "\n",
    "**Add your neighbor's (Group of 2) username as your collaborator:**"
   ]
  },
  {
   "cell_type": "markdown",
   "metadata": {},
   "source": [
    "![](images/git_collaborator.png)"
   ]
  },
  {
   "cell_type": "markdown",
   "metadata": {},
   "source": [
    "----\n",
    "## Connecting to the Repo\n",
    "\n",
    "**You should have already done this by following the tutorial - Setting up Git and Github on Canvas.**\n",
    "\n",
    "#### Mac Instructions:\n",
    "* Open terminal\n",
    "* Type ``which git``.  If git is installed, you will see a path to git similar to ``/usr/bin/git``.\n",
    "* If git is not installed, you won't see anything.  Follow the instructions here to install it:  \n",
    "  [https://git-scm.com/book/en/v1/Getting-Started-Installing-Git](https://git-scm.com/book/en/v1/Getting-Started-Installing-Git)\n",
    "\n",
    "#### Windows Instructions\n",
    "You should install git BASH:  [https://git-for-windows.github.io](https://git-for-windows.github.io)\n",
    "\n",
    "Okay.  Now you have git.  Hopefully you still have your new GitHub repo open in your browser.  If not, open it.\n",
    "* Click on the ``Clone or download`` button and copy the text\n",
    "* Open your terminal session (or git-BASH session)\n",
    "* Type ``git clone <url_to_repo_just_copied>``\n",
    "* Now you have a local copy of your repo!"
   ]
  },
  {
   "cell_type": "markdown",
   "metadata": {},
   "source": [
    "----\n",
    "## Why should you use version control?"
   ]
  },
  {
   "cell_type": "markdown",
   "metadata": {},
   "source": [
    "If you ask 10 people, you'll get 10 different answers, but one of the commonalities is that most people don't realize how integral it is to their development process until they've started using it. Still, for the sake of argument, here are some highlights:\n",
    "\n",
    "- ** You can undo anything: ** `git` provides a *complete history* of every change that has ever been made to your project, timestamped, commented, and attributed. If something breaks, you always have the choice of going back to a previous state.\n",
    "- ** You won't *need* to keep undo-ing things: ** One of the advantages of using `gi`t properly is that by keeping new changes separate from a stable base, you tend to avoid the massive rollbacks associated with constantly tinkering with a single code.\n",
    "- ** You can identify exactly when and where changes were made: ** `git` allows you to pinpoint when a particular piece of code was changed, so finding what other pieces of code a bug might affect or figuring out why a certain expression was added is easy.\n",
    "- ** `git` forces teams to face conflicts directly: ** On a team-based project, many people are often working with the same code. By having a tool which understands when and where files were changed, it's easy to see when changes might conflict with each other. While it might seem troublesome sometimes to have to deal with conflicts, the alternative&mdash;*not* knowing there's a conflict&mdash;is much more insidious."
   ]
  },
  {
   "cell_type": "markdown",
   "metadata": {},
   "source": [
    "----\n",
    "## Common tasks in the version control of files"
   ]
  },
  {
   "cell_type": "markdown",
   "metadata": {},
   "source": [
    "### Forking a repository"
   ]
  },
  {
   "cell_type": "markdown",
   "metadata": {},
   "source": [
    "Forking a repository is performed on `GitHub`. On `GitHub`, go to the url [https://github.com/yluo24/BST262_Labs](https://github.com/yluo24/BST262_Labs). Click the *Fork* button on the upper right side. \n",
    "\n",
    "![github_forking](images/github_forking.png)\n",
    "\n",
    "Forking brings a repository into your own namespace. It's really a *cloning* process (see below), but it's done between two *remotes* on the server. In other words it creates a second upstream repository on the server, called the **origin**.\n",
    "\n",
    "The forking process on `GitHub` will ask you *where* you want to fork the repository. Choose your own `GitHub` id.\n",
    "\n",
    "\n",
    "The forking procedure leaves you with your own repository `your_user_name/BST262_Labs`"
   ]
  },
  {
   "cell_type": "markdown",
   "metadata": {},
   "source": [
    "### Cloning a repository"
   ]
  },
  {
   "cell_type": "markdown",
   "metadata": {},
   "source": [
    "Now that we have a **fork** of the `BST262_Git_Labs` repository, let's **clone** it down to our local machines."
   ]
  },
  {
   "cell_type": "markdown",
   "metadata": {},
   "source": [
    "`clone`\n",
    "\n",
    "![clone](images/git_clone.png)\n",
    "\n",
    "Cloning a repository does two things: \n",
    "1. It takes a repository from somewhere (usually an **upstream repository**) and makes a local copy (your new **local repository**)\n",
    "2. It creates the most recent copy of all of the files in the project (your new **working directory**).\n",
    "\n",
    "This is generally how you will start working on a project for the first time.\n",
    "\n",
    "Let's go to your terminal (mac user) or anaconda command prompt (windows user), clone my repository so you have this notebook. "
   ]
  },
  {
   "cell_type": "raw",
   "metadata": {},
   "source": [
    " $ git clone https://github.com/yluo24/BST262_Labs.git\n",
    " $ jupyter notebook"
   ]
  },
  {
   "cell_type": "raw",
   "metadata": {},
   "source": [
    "You can use command line to navigate\n",
    "$ cd BST262_Labs\n",
    "$ ls"
   ]
  },
  {
   "cell_type": "raw",
   "metadata": {},
   "source": [
    "$ git clone url (the repository you just created)"
   ]
  },
  {
   "cell_type": "markdown",
   "metadata": {},
   "source": [
    "### Poking around"
   ]
  },
  {
   "cell_type": "markdown",
   "metadata": {},
   "source": [
    "Now let's go to your repository you just created: `$ cd bst262_GitHubUserName` "
   ]
  },
  {
   "cell_type": "markdown",
   "metadata": {},
   "source": [
    "### `man`\n",
    "If you ever need help on a command, you can find the git man pages by hyphenating `git` and the command name.  \n",
    "\n",
    "### `log`\n",
    "\n",
    "Log tells you all the changes that have occured in this project as of now..."
   ]
  },
  {
   "cell_type": "raw",
   "metadata": {},
   "source": [
    "$ man git-log\n",
    "$ git log"
   ]
  },
  {
   "cell_type": "markdown",
   "metadata": {},
   "source": [
    "### `status`\n",
    "\n",
    "![git_status](images/git_status.png)\n",
    "\n",
    "Status is your window into the current state of your project. It can tell you which files you have changed and which files you currently have in your staging area."
   ]
  },
  {
   "cell_type": "markdown",
   "metadata": {},
   "source": [
    "### Making changes"
   ]
  },
  {
   "cell_type": "raw",
   "metadata": {},
   "source": [
    "$ echo '# Hello world!' > world.md\n",
    "$ git status"
   ]
  },
  {
   "cell_type": "markdown",
   "metadata": {},
   "source": [
    "We've created a file in the working directory, but it hasn't been staged yet."
   ]
  },
  {
   "cell_type": "markdown",
   "metadata": {},
   "source": [
    "### `add`\n",
    "\n",
    "![git_add](images/git_add.png)\n",
    "\n",
    "When you've made a change to a set of files and are ready to create a commit, the first step is to add all of the changed files to the staging area. That is what `add` is for. Remember that what you see in the filesystem is your working directory, so the way to see what's in the staging area is with the `status` command. This also means that **if you add something to the staging area and then edit it again, you'll need to add the file to the staging area again if you want to remember the new changes**.  See the [Staging Modified Files section](https://git-scm.com/book/id/v2/Git-Basics-Recording-Changes-to-the-Repository) at [Git - Recording Changes to the Repository](https://git-scm.com/book/id/v2/Git-Basics-Recording-Changes-to-the-Repository)."
   ]
  },
  {
   "cell_type": "raw",
   "metadata": {},
   "source": [
    "$ git add world.md\n",
    "$ git status"
   ]
  },
  {
   "cell_type": "markdown",
   "metadata": {},
   "source": [
    "Now our file is in the staging area (Index) waiting to be committed.  The file is still not even in our local repository.\n",
    "\n",
    "Instead of doing `git add world.md` you could use `git add .` in the top level of the repository. This adds all new files and changed files to the index, and is particularly useful if you have created multiple new files.  Of course, you should be careful with this because it's a little bit annoying if you decide that you didn't want to add a file.  I usually avoid this if I can, but sometimes it's the way to go."
   ]
  },
  {
   "cell_type": "markdown",
   "metadata": {},
   "source": [
    "### `commit`\n",
    "\n",
    "![git_commit](images/git_commit.png)\n",
    "\n",
    "When you're satisfied with the changes you've added to your staging area, you can commit those changes to your local repository with the `commit` command. Those changes will have a permanent record in the repository from now on."
   ]
  },
  {
   "cell_type": "raw",
   "metadata": {},
   "source": [
    "$ git commit -m \"Hello world file to make sure things are working.\"\n",
    "$ git status"
   ]
  },
  {
   "cell_type": "markdown",
   "metadata": {},
   "source": [
    "The `git commit -m...` version is just a way to specify a commit message without opening a text editor. \n",
    "\n",
    "Another nice command is to use `git commit` with the `-a` option:  `git commit -a`.  Note that `git commit -a` is shorthand to _stage_ and _commit_ a file which is **already** tracked all at once.  It will not stage a file that is not yet tracked!"
   ]
  },
  {
   "cell_type": "markdown",
   "metadata": {},
   "source": [
    "We can also use `git commit -v .`\n",
    "\n",
    "`-v` option stands for verbose. It would tell you what change you made before committing, and you add your commit message."
   ]
  },
  {
   "cell_type": "markdown",
   "metadata": {},
   "source": [
    "Now we call the command below to compare our local repository  vs upstream reporsitory"
   ]
  },
  {
   "cell_type": "raw",
   "metadata": {},
   "source": [
    "$ git branch -av "
   ]
  },
  {
   "cell_type": "markdown",
   "metadata": {},
   "source": [
    "We see that our branch, \"`master`\", has one more commit than the \"`origin/master`\" branch, the local copy of the branch that came from the upstream repository (nicknamed \"`origin`\" in this case). Let's push the changes."
   ]
  },
  {
   "cell_type": "markdown",
   "metadata": {},
   "source": [
    "### `push`\n",
    "\n",
    "![git_push](images/git_push.png)\n",
    "\n",
    "The `push` command takes the changes you have made to your local repository and attempts to update a remote repository with them. If you're the only person working with both of these (which is how a solo GitHub project would work), then push should always succeed."
   ]
  },
  {
   "cell_type": "raw",
   "metadata": {},
   "source": [
    "$ git push\n",
    "$ git status\n",
    "$ git log"
   ]
  },
  {
   "cell_type": "markdown",
   "metadata": {},
   "source": [
    "### Undo Changes"
   ]
  },
  {
   "cell_type": "markdown",
   "metadata": {},
   "source": [
    "Sometimes, one might make a mistake and want to undo the changes. Let's learn the available 'undo' Git strategies and commands. It is first important to note that Git does not have a traditional 'undo' system like those found in a word processing application. It will be beneficial to refrain from mapping Git operations to any traditional 'undo' mental model. Additionally, Git has its own nomenclature for 'undo' operations that it is best to leverage in a discussion. This nomenclature includes terms like `reset`, `revert`, `checkout`, `clean`, and more."
   ]
  },
  {
   "cell_type": "markdown",
   "metadata": {},
   "source": [
    "### git checkout\n",
    "\n",
    "For example, you’ve started developing a crazy experiment, but you’re not sure if you want to keep it or not. To help you decide, you want to take a look at the state of the project before you started your experiment. First, you’ll need to find the ID of the revision you want to see using `git log`\n",
    "\n",
    "![git_log](images/git_log.jpeg)\n"
   ]
  },
  {
   "cell_type": "markdown",
   "metadata": {},
   "source": [
    "You can use `git checkout <commit ID>` to make important changes in the world.md we added earlier\n"
   ]
  },
  {
   "cell_type": "raw",
   "metadata": {},
   "source": [
    "$ git checkout ea8540e4be50d461c9a04697cbef734bf4c334a1"
   ]
  },
  {
   "cell_type": "markdown",
   "metadata": {},
   "source": [
    "This makes your working directory match the exact state of the ea8540e4be50d461c9a04697cbef734bf4c334a1 commit. You can look at files, compile the project, run tests, and even edit files without worrying about losing the current state of the project. Nothing you do in here will be saved in your repository. To continue developing, you need to get back to the “current” state of your project:"
   ]
  },
  {
   "cell_type": "raw",
   "metadata": {},
   "source": [
    "$ git checkout master"
   ]
  },
  {
   "cell_type": "markdown",
   "metadata": {},
   "source": [
    "This assumes that you're developing on the default master branch. Once you’re back in the master branch, you can use either `git revert` or `git reset` to undo any undesired change"
   ]
  },
  {
   "cell_type": "markdown",
   "metadata": {},
   "source": [
    "### git rm \n",
    "\n",
    "This command can be used to remove individual files, note that this command does not remove branches. I will go over branches in a few minutes."
   ]
  },
  {
   "cell_type": "raw",
   "metadata": {},
   "source": [
    "$ git rm world.md\n",
    "$ git commit -m \"remove world.md\"\n",
    "$ git push\n",
    "$ ls"
   ]
  },
  {
   "cell_type": "markdown",
   "metadata": {},
   "source": [
    "Now you see the world.md file is removed from the repo\n",
    "Note that if you just want to remove the file from the repo and not delete it from the local file system use:\n",
    "`git rm --cached file.txt`"
   ]
  },
  {
   "cell_type": "markdown",
   "metadata": {},
   "source": [
    "### git revert \n",
    "\n",
    "#### This is the best tool for undoing shared public changes\n",
    "\n",
    "The git revert command can be considered an 'undo' type command, however, it is not a traditional undo operation. Instead of removing the commit from the project history, it figures out how to invert the changes introduced by the commit and appends a new commit with the resulting inverse content. This prevents Git from losing history, which is important for the integrity of your revision history and for reliable collaboration.\n",
    "\n",
    "Reverting should be used when you want to apply the inverse of a commit from your project history. This can be useful, for example, if you’re tracking down a bug and find that it was introduced by a single commit. Instead of manually going in, fixing it, and committing a new snapshot, you can use git revert to automatically do all of this for you."
   ]
  },
  {
   "cell_type": "raw",
   "metadata": {},
   "source": [
    "$ git revert head --no-edit\n",
    "$ git push\n",
    "$ ls"
   ]
  },
  {
   "cell_type": "markdown",
   "metadata": {},
   "source": [
    "We see the world.md removal is reverted, which means we reverted the previous commit. \n",
    "\n",
    "Note: `--no-edit` is the option to not open the editor. Without that, you can also write you own commit message on this operation\n",
    "\n"
   ]
  },
  {
   "cell_type": "markdown",
   "metadata": {},
   "source": [
    "### git reset \n",
    "\n",
    "**This is best used for undoing local private changes**\n",
    "\n",
    "The git reset command is a complex and versatile tool for undoing changes. It has three primary forms of invocation. These forms correspond to command line arguments --soft, --mixed, --hard. The three arguments each correspond to Git's three internal state management mechanism's, The Commit Tree (HEAD), The Staging Index, and The Working Directory.\n",
    "\n",
    "![git reset](images/git_reset.png)"
   ]
  },
  {
   "cell_type": "raw",
   "metadata": {},
   "source": [
    "Find you inital commit ID\n",
    "$ git reset --hard HEAD\n",
    "$ git status"
   ]
  },
  {
   "cell_type": "markdown",
   "metadata": {},
   "source": [
    "### git clean\n",
    "\n",
    "**This is the best tool when you are pull from lecture repo and accidentally made changes locally but you don't want to keep the changes since you are not push to the repo**\n",
    "\n",
    "`git reset --hard` will not remove untracked files, where as `git-clean` will remove any files from the tracked root directory that are not under Git tracking."
   ]
  },
  {
   "cell_type": "raw",
   "metadata": {},
   "source": [
    "$ echo '# Hello world again!' > world2.md \n",
    "$ ls"
   ]
  },
  {
   "cell_type": "markdown",
   "metadata": {},
   "source": [
    "Supposed you didn't mean to add a file in the repo, now pull the newest version of the repo, instead of searching what file you change in the folder, you can just use `git clean` "
   ]
  },
  {
   "cell_type": "raw",
   "metadata": {},
   "source": [
    "$ git clean -f"
   ]
  },
  {
   "cell_type": "markdown",
   "metadata": {},
   "source": [
    "----\n",
    "## Branching\n",
    "\n",
    "As you might have noticed by now, everything in Git is a branch. We have branches on remote (upstream) repositories, copies of remote branches in our local repository, and branches on local repositories which (so far) track remote branches (or more precisely local copies of remote repositories).\n",
    "\n",
    "You can look at all the branches in your repo and print out a lot of information to the screen."
   ]
  },
  {
   "cell_type": "raw",
   "metadata": {},
   "source": [
    "$ git branch -avv"
   ]
  },
  {
   "cell_type": "markdown",
   "metadata": {},
   "source": [
    "All of these branches are nothing but commit-streams in disguise, as can be seen above. It's a very simple model that leads to a lot of interesting version control patterns.\n",
    "\n",
    "Since branches are so light-weight, the recommended way of working on software using git is to create a new branch for each new feature you add, test it out, and if good, merge it into master. Then you deploy the software from master. We have been using branches under the hood. Let's now lift the hood.\n",
    "\n",
    "----\n",
    "### `branch`\n",
    "\n",
    "![git_branch](images/git_branch.png)\n",
    "\n",
    "Branches can also be created manually, and they are a useful way of organizing unfinished changes."
   ]
  },
  {
   "cell_type": "markdown",
   "metadata": {},
   "source": [
    "Creates a branch with a given name:"
   ]
  },
  {
   "cell_type": "raw",
   "metadata": {},
   "source": [
    "$ git branch my-new-branch"
   ]
  },
  {
   "cell_type": "markdown",
   "metadata": {},
   "source": [
    "![](images/git_mybranch.png)"
   ]
  },
  {
   "cell_type": "markdown",
   "metadata": {},
   "source": [
    "----\n",
    "### Checkout\n",
    "\n",
    "![git_checkout](images/git_checkout.png)\n",
    "\n",
    "Checkout switches the active branch. Since branches can have different changes, `checkout` may make the working directory look very different. For instance, if you have added new files to one branch, and then check another branch out, those files will no longer show up in the directory. They are still stored in the `.git` folder, but since they only exist in the other branch, they cannot be accessed until you check out the original branch."
   ]
  },
  {
   "cell_type": "raw",
   "metadata": {},
   "source": [
    "$ git checkout my-new-branch"
   ]
  },
  {
   "cell_type": "markdown",
   "metadata": {},
   "source": [
    "You can combine creating a new branch and checking it out with the shortcut:"
   ]
  },
  {
   "cell_type": "markdown",
   "metadata": {},
   "source": [
    "$ git checkout -b my-new-branch"
   ]
  },
  {
   "cell_type": "markdown",
   "metadata": {},
   "source": [
    "### Merge branch to master branch"
   ]
  },
  {
   "cell_type": "markdown",
   "metadata": {},
   "source": [
    "Suppose we want test some code we write before putting it into the master branch. We can write the document in our own branch. We create the code in our own branch:"
   ]
  },
  {
   "cell_type": "raw",
   "metadata": {},
   "source": [
    "$ echo '# Hello world from Sara!' > world3.md\n",
    "$ git add world3.md\n",
    "$ git commit -m \"Add world3 in my-new-branch\""
   ]
  },
  {
   "cell_type": "markdown",
   "metadata": {},
   "source": [
    "Presumably it's all tested and everything is working nicely. We'd like to merge it into our master branch now. First, we'll switch to the master branch, and then merge them"
   ]
  },
  {
   "cell_type": "raw",
   "metadata": {},
   "source": [
    "$ git checkout master\n",
    "$ git merge my-new-branch\n",
    "$ ls"
   ]
  },
  {
   "cell_type": "markdown",
   "metadata": {},
   "source": [
    "Now our master branch is up to date with our testing branch.  We can now delete our testing branch since it is no longer relevant."
   ]
  },
  {
   "cell_type": "raw",
   "metadata": {},
   "source": [
    "$ git branch -d my-new-branch"
   ]
  },
  {
   "cell_type": "markdown",
   "metadata": {},
   "source": [
    "Finally, let's push the changes to our remote repo. "
   ]
  },
  {
   "cell_type": "raw",
   "metadata": {},
   "source": [
    "$ git push"
   ]
  },
  {
   "cell_type": "markdown",
   "metadata": {},
   "source": [
    "----\n",
    "## Merges Conflicts"
   ]
  },
  {
   "cell_type": "markdown",
   "metadata": {},
   "source": [
    "### Resolve Merges Conflicts"
   ]
  },
  {
   "cell_type": "markdown",
   "metadata": {},
   "source": [
    "If you're working with other people, then it's possible that they have made changes to the remote repository between the time you first cloned it and now push will fail.\n",
    "\n",
    "**Now find your neighbor who you just now added as collaborator.** You guys should one of your repos to use for this part of the exercise. Example below assume **Sara** and **Christine** are collaborating"
   ]
  },
  {
   "cell_type": "raw",
   "metadata": {},
   "source": [
    "Sara:     $ cd BST262_Sara\n",
    "\n",
    "Sara:     $ vim Hello.txt\n",
    "           \"Hello\""
   ]
  },
  {
   "cell_type": "raw",
   "metadata": {},
   "source": [
    "Christine:$ git clone <Sara's repo url>\n",
    "Christine:$ git log\n",
    "\n",
    "Sara:     $ git log "
   ]
  },
  {
   "cell_type": "markdown",
   "metadata": {},
   "source": [
    "At this point, Sara and Christine should have the exact same repo, a Hello text file, since Christine just clone it to her local\n",
    "\n",
    "Now Christine edits hello file:"
   ]
  },
  {
   "cell_type": "raw",
   "metadata": {},
   "source": [
    "Christine:$ cd BST262_Sara\n",
    "Christine:$ vim Hello.txt\n",
    "             \"Hello from Christine\""
   ]
  },
  {
   "cell_type": "markdown",
   "metadata": {},
   "source": [
    "Christine add, commit, and push to the repo:"
   ]
  },
  {
   "cell_type": "raw",
   "metadata": {},
   "source": [
    "Christine:$ git commit -am \"Edited by Christine\"\n",
    "Christine:$ git push"
   ]
  },
  {
   "cell_type": "raw",
   "metadata": {},
   "source": [
    "Sara didn't know Christine made a change that conflict her changes, so she edits the file and try to commit and push"
   ]
  },
  {
   "cell_type": "raw",
   "metadata": {},
   "source": [
    "Sara:     $ vim Hello.txt\n",
    "             \"Hello from Sara\"\n",
    "Sara:     $ git commit -am \"Edited by Sara\"\n",
    "Sara:     $ git push"
   ]
  },
  {
   "cell_type": "markdown",
   "metadata": {},
   "source": [
    "When Sara try to push, an error message below will occur, so we need to manually handle the conflicts"
   ]
  },
  {
   "cell_type": "raw",
   "metadata": {},
   "source": [
    "To https://github.com/yluo24/BST262_Labs\n",
    " ! [rejected]        master -> master (fetch first)\n",
    "error: failed to push some refs to 'https://github.com/yluo24/BST262_Labs'\n",
    "hint: Updates were rejected because the remote contains work that you do\n",
    "hint: not have locally. This is usually caused by another repository pushing\n",
    "hint: to the same ref. You may want to first integrate the remote changes\n",
    "hint: (e.g., 'git pull ...') before pushing again.\n",
    "hint: See the 'Note about fast-forwards' in 'git push --help' for details."
   ]
  },
  {
   "cell_type": "raw",
   "metadata": {},
   "source": [
    "Sara:     $ git pull\n",
    "Sara:     $ vim Hello.txt"
   ]
  },
  {
   "cell_type": "raw",
   "metadata": {},
   "source": [
    "<<<<<<< HEAD\n",
    "Hello from Sara\n",
    "=======\n",
    "Hello from Christine\n",
    ">>>>>>> origin/master"
   ]
  },
  {
   "cell_type": "markdown",
   "metadata": {},
   "source": [
    "We see this file and do a manual merge"
   ]
  },
  {
   "cell_type": "raw",
   "metadata": {},
   "source": [
    "Sara:     $ vim Hello.txt\n",
    "            \"Hello from Sara and Christine\"\n",
    "Sara:     $ git commit -am \"from both Sara and Christine\"\n",
    "Sara:     $ git push"
   ]
  },
  {
   "cell_type": "markdown",
   "metadata": {},
   "source": [
    "### Fetch vs Pull"
   ]
  },
  {
   "cell_type": "markdown",
   "metadata": {},
   "source": [
    "https://stackoverflow.com/questions/292357/what-is-the-difference-between-git-pull-and-git-fetch"
   ]
  },
  {
   "cell_type": "markdown",
   "metadata": {},
   "source": [
    "These two commands together is equivalent `git pull`"
   ]
  },
  {
   "cell_type": "raw",
   "metadata": {},
   "source": [
    "$ git fetch\n",
    "$ git merge origin/master"
   ]
  },
  {
   "cell_type": "markdown",
   "metadata": {},
   "source": [
    "### Merge vs Rebase"
   ]
  },
  {
   "cell_type": "markdown",
   "metadata": {},
   "source": [
    "If are interested in more advance merges, go through this tutorial"
   ]
  },
  {
   "cell_type": "markdown",
   "metadata": {},
   "source": [
    "https://www.atlassian.com/git/tutorials/merging-vs-rebasing"
   ]
  },
  {
   "cell_type": "markdown",
   "metadata": {},
   "source": [
    "----\n",
    "## Git habits\n",
    "\n",
    "** * Commit early, commit often. * **\n",
    "\n",
    "Git is more effective when used at a fine granularity. For starters, you can't undo what you haven't committed, so committing lots of small changes makes it easier to find the right rollback point. Also, merging becomes a lot easier when you only have to deal with a handful of conflicts.\n",
    "\n",
    "** * Commit unrelated changes separately. * **\n",
    "\n",
    "Identifying the source of a bug or understanding the reason why a particular piece of code exists is much easier when commits focus on related changes. Some of this has to do with simplifying commit messages and making it easier to look through logs, but it has other related benefits: commits are smaller and simpler, and merge conflicts are confined to only the commits which actually have conflicting code.\n",
    "\n",
    "** * Do not commit binaries and other temporary files. * **\n",
    "\n",
    "Git is meant for tracking changes. In nearly all cases, the only meaningful difference between the contents of two binaries is that they are different. If you change source files, compile, and commit the resulting binary, git sees an entirely different file. The end result is that the git repository (which contains a complete history, remember) begins to become bloated with the history of many dissimilar binaries. Worse, there's often little advantage to keeping those files in the history. An argument can be made for periodically snapshotting working binaries, but things like object files, compiled python files, and editor auto-saves are basically wasted space.\n",
    "\n",
    "** * Ignore files which should not be committed * **\n",
    "\n",
    "Git comes with a built-in mechanism for ignoring certain types of files. Placing filenames or wildcards in a `.gitignore` file placed in the top-level directory (where the `.git` directory is also located) will cause git to ignore those files when checking file status. This is a good way to ensure you don't commit the wrong files accidentally, and it also makes the output of `git status` somewhat cleaner.\n",
    "\n",
    "** * Always make a branch for new changes * **\n",
    "\n",
    "While it's tempting to work on new code directly in the `master` branch, it's usually a good idea to create a new one instead, especially for team-based projects. The major advantage to this practice is that it keeps logically disparate change sets separate. This means that if two people are working on improvements in two different branches, when they merge, the actual workflow is reflected in the git history. Plus, explicitly creating branches adds some semantic meaning to your branch structure. Moreover, there is very little difference in how you use git.\n",
    "\n",
    "** * Write good commit messages * **\n",
    "\n",
    "I cannot understate the importance of this.\n",
    "\n",
    "** Seriously. Write good commit messages. **"
   ]
  },
  {
   "cell_type": "markdown",
   "metadata": {},
   "source": [
    "## Git Action in Summary\n",
    "The plot is from https://blog.osteele.com/2008/05/my-git-workflow/\n",
    "![](images/git_transport.png)"
   ]
  },
  {
   "cell_type": "markdown",
   "metadata": {},
   "source": [
    "## Acknowledgement \n",
    "\n",
    "This lab material is largely based on:\n",
    "\n",
    "The git tutorial IACS's **AC297R** course by **Robert Adolf** and lectures from **CS207** course by **David Sondak**\n",
    "\n",
    "https://github.com/rdadolf/git-tutorial\n",
    "\n",
    "https://github.com/IACS-CS-207/cs207-F18\n",
    "\n",
    "This tutorial is also used for references\n",
    "\n",
    "https://www.atlassian.com/git/tutorials"
   ]
  }
 ],
 "metadata": {
  "kernelspec": {
   "display_name": "Python [default]",
   "language": "python",
   "name": "python3"
  },
  "language_info": {
   "codemirror_mode": {
    "name": "ipython",
    "version": 3
   },
   "file_extension": ".py",
   "mimetype": "text/x-python",
   "name": "python",
   "nbconvert_exporter": "python",
   "pygments_lexer": "ipython3",
   "version": "3.6.3"
  }
 },
 "nbformat": 4,
 "nbformat_minor": 2
}
